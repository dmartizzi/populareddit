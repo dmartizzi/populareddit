{
 "cells": [
  {
   "cell_type": "markdown",
   "metadata": {},
   "source": [
    "# controversit: a tool to identify potentially controversial submissions on reddit\n",
    "\n",
    "This version is for exploration and comes in Jupyter notebook format for ease of use.\n",
    "\n",
    "The tool will be also implemented in script version and as a web app."
   ]
  },
  {
   "cell_type": "code",
   "execution_count": 89,
   "metadata": {
    "ExecuteTime": {
     "end_time": "2019-09-13T01:08:52.211766Z",
     "start_time": "2019-09-13T01:08:44.646696Z"
    }
   },
   "outputs": [],
   "source": [
    "import time\n",
    "import datetime \n",
    "import praw\n",
    "import numpy as np\n",
    "import pandas as pd\n",
    "import matplotlib as mpl\n",
    "import seaborn as sns\n",
    "import matplotlib.pyplot as plt\n",
    "from scipy import stats\n",
    "import warnings; warnings.simplefilter('ignore')"
   ]
  },
  {
   "cell_type": "markdown",
   "metadata": {},
   "source": [
    "# Setup reddit API"
   ]
  },
  {
   "cell_type": "code",
   "execution_count": 2,
   "metadata": {
    "ExecuteTime": {
     "end_time": "2019-09-12T21:10:14.707662Z",
     "start_time": "2019-09-12T21:10:13.491801Z"
    }
   },
   "outputs": [
    {
     "name": "stdout",
     "output_type": "stream",
     "text": [
      "Logged in as user:  DavidWithAnE\n"
     ]
    }
   ],
   "source": [
    "uname = \"DavidWithAnE\"\n",
    "upassword = \"BROCCO.billy85\"\n",
    "uagent = \"controversit by /u/\"+uname\n",
    "cl_id = \"l_eEWQRL2Qrvxw\"\n",
    "cl_secret = \"QBAlJLF4KPd4ox5ykGTsAoM9Z_A\"\n",
    "\n",
    "reddit = praw.Reddit(client_id=cl_id,\n",
    "                     client_secret=cl_secret,\n",
    "                     password=upassword,\n",
    "                     user_agent=uagent,\n",
    "                     username=uname)\n",
    "\n",
    "print(\"Logged in as user: \",reddit.user.me())"
   ]
  },
  {
   "cell_type": "markdown",
   "metadata": {},
   "source": [
    "# Choose a subreddit and get a list of submissions"
   ]
  },
  {
   "cell_type": "code",
   "execution_count": 40,
   "metadata": {
    "ExecuteTime": {
     "end_time": "2019-09-13T00:40:22.700812Z",
     "start_time": "2019-09-13T00:40:22.688846Z"
    }
   },
   "outputs": [],
   "source": [
    "def create_pd_dframe(nrows,list_of_fields):\n",
    "    '''\n",
    "    A simple function to create an empty\n",
    "    dataframe with a given number of rows \n",
    "    and a given list of columns\n",
    "    '''\n",
    "    \n",
    "    shape = (nrows,len(list_of_fields))\n",
    "    d = np.empty(shape)\n",
    "    df = pd.DataFrame(data=d,columns=list_of_fields)\n",
    "    \n",
    "    return df\n",
    "\n",
    "def submission_data_to_dframe(sorting_scheme,n_subm=100):\n",
    "    '''\n",
    "    A function that gets n_subm reddit submissions, \n",
    "    retrieves their properties, comments to the \n",
    "    submission, then saves the results into a pandas \n",
    "    dataframe.\n",
    "    '''\n",
    "\n",
    "    # Initialize pandas dataframe\n",
    "    list_of_fields = [\"subm_ID\",\"subm_title\",\"subm_author\", \\\n",
    "                      \"subm_created_utc\",\"subm_upvote_ratio\", \\\n",
    "                      \"subm_link_flair_text\", \\\n",
    "                      \"subm_comment_ids\", \\\n",
    "                      \"subm_comment_authors\", \\\n",
    "                      \"subm_comment_bodies\", \\\n",
    "                      \"subm_comment_scores\"]\n",
    "    df = create_pd_dframe(n_subm,list_of_fields)\n",
    "    df[\"subm_comment_ids\"] = [[]] * len(df)\n",
    "    df[\"subm_comment_authors\"] = [[]] * len(df)\n",
    "    df[\"subm_comment_bodies\"] = [[]] * len(df)\n",
    "    df[\"subm_comment_scores\"] = [[]] * len(df)\n",
    "        \n",
    "    # Use reddit api to retrieve the necessary information.\n",
    "    i = 0 \n",
    "    for sub in sorting_scheme(limit=n_subm):\n",
    "\n",
    "        # Data on submissions\n",
    "        df[\"subm_ID\"].iloc[i] = sub.id\n",
    "        df[\"subm_title\"].iloc[i] = sub.title\n",
    "        df[\"subm_author\"].iloc[i] = sub.author\n",
    "        df[\"subm_created_utc\"].iloc[i] = float(sub.created_utc)\n",
    "        df[\"subm_upvote_ratio\"].iloc[i] = float(sub.upvote_ratio)\n",
    "        df[\"subm_link_flair_text\"].iloc[i] = sub.link_flair_text\n",
    "        \n",
    "        # Data on comments\n",
    "        sub.comments.replace_more(limit=0)\n",
    "        comment_ids = []\n",
    "        comment_authors = []\n",
    "        comment_bodies = []\n",
    "        comment_scores = []\n",
    "        for com in sub.comments:\n",
    "            comment_ids.append(com.id)\n",
    "            comment_authors.append(com.author)\n",
    "            comment_bodies.append(com.body)\n",
    "            comment_scores.append(float(com.score))\n",
    "        df[\"subm_comment_ids\"].iloc[i] = comment_ids\n",
    "        df[\"subm_comment_authors\"].iloc[i] = comment_authors\n",
    "        df[\"subm_comment_bodies\"].iloc[i] = comment_bodies\n",
    "        df[\"subm_comment_scores\"].iloc[i] = comment_scores\n",
    "        \n",
    "        # Increase counter\n",
    "        i=i+1\n",
    "    \n",
    "    return df"
   ]
  },
  {
   "cell_type": "code",
   "execution_count": 155,
   "metadata": {
    "ExecuteTime": {
     "end_time": "2019-09-13T01:46:46.464469Z",
     "start_time": "2019-09-13T01:43:34.574765Z"
    }
   },
   "outputs": [],
   "source": [
    "# Choose a subreddit and a number of submissions\n",
    "\n",
    "#subreddit_name = \"politicaldiscussion\"\n",
    "#subreddit_name = \"amitheasshole\"\n",
    "subreddit_name = \"changemyview\"\n",
    "\n",
    "n_subm = 100\n",
    "\n",
    "subreddit_obj = reddit.subreddit(subreddit_name)\n",
    "\n",
    "subm_data = submission_data_to_dframe(subreddit_obj.new,n_subm=n_subm)"
   ]
  },
  {
   "cell_type": "code",
   "execution_count": 157,
   "metadata": {
    "ExecuteTime": {
     "end_time": "2019-09-13T01:47:04.112251Z",
     "start_time": "2019-09-13T01:47:04.086925Z"
    },
    "scrolled": false
   },
   "outputs": [
    {
     "data": {
      "text/html": [
       "<div>\n",
       "<style scoped>\n",
       "    .dataframe tbody tr th:only-of-type {\n",
       "        vertical-align: middle;\n",
       "    }\n",
       "\n",
       "    .dataframe tbody tr th {\n",
       "        vertical-align: top;\n",
       "    }\n",
       "\n",
       "    .dataframe thead th {\n",
       "        text-align: right;\n",
       "    }\n",
       "</style>\n",
       "<table border=\"1\" class=\"dataframe\">\n",
       "  <thead>\n",
       "    <tr style=\"text-align: right;\">\n",
       "      <th></th>\n",
       "      <th>subm_ID</th>\n",
       "      <th>subm_title</th>\n",
       "      <th>subm_author</th>\n",
       "      <th>subm_created_utc</th>\n",
       "      <th>subm_upvote_ratio</th>\n",
       "      <th>subm_link_flair_text</th>\n",
       "      <th>subm_comment_ids</th>\n",
       "      <th>subm_comment_authors</th>\n",
       "      <th>subm_comment_bodies</th>\n",
       "      <th>subm_comment_scores</th>\n",
       "    </tr>\n",
       "  </thead>\n",
       "  <tbody>\n",
       "    <tr>\n",
       "      <th>0</th>\n",
       "      <td>d3hhtn</td>\n",
       "      <td>CMV: You shouldn't be able to hate on what you...</td>\n",
       "      <td>DeadByLag</td>\n",
       "      <td>1.568336e+09</td>\n",
       "      <td>0.40</td>\n",
       "      <td>NaN</td>\n",
       "      <td>[f02rkl4, f02sb7r, f02s1h7, f02ulhb, f02uwum, ...</td>\n",
       "      <td>[miguelguajiro, Mnlybdg, TheVioletBarry, absol...</td>\n",
       "      <td>[I agree about Lil’ Peep and such, but with IC...</td>\n",
       "      <td>[1.0, 1.0, 1.0, 1.0, 1.0, 1.0, 1.0]</td>\n",
       "    </tr>\n",
       "    <tr>\n",
       "      <th>1</th>\n",
       "      <td>d3h2aj</td>\n",
       "      <td>CMV: Ty Oliver McDowell should not have been s...</td>\n",
       "      <td>IsRapeAlwaysWrong</td>\n",
       "      <td>1.568334e+09</td>\n",
       "      <td>1.00</td>\n",
       "      <td>NaN</td>\n",
       "      <td>[f02pgza, f02pkc2]</td>\n",
       "      <td>[GetToMars, Armadeo]</td>\n",
       "      <td>[What he did sounds strongly like negligence, ...</td>\n",
       "      <td>[1.0, 1.0]</td>\n",
       "    </tr>\n",
       "    <tr>\n",
       "      <th>2</th>\n",
       "      <td>d3fh56</td>\n",
       "      <td>CMV: Black people should not refer to themselv...</td>\n",
       "      <td>naganarb</td>\n",
       "      <td>1.568327e+09</td>\n",
       "      <td>0.50</td>\n",
       "      <td>Deltas(s) from OP</td>\n",
       "      <td>[f02isst, f02emnq, f02f2jn, f02eoc0, f02ehxv, ...</td>\n",
       "      <td>[DeltaBot, amishlatinjew, planthoney, Skull025...</td>\n",
       "      <td>[/u/naganarb (OP) has awarded 1 delta(s) in th...</td>\n",
       "      <td>[1.0, 1.0, 1.0, 1.0, 1.0, 1.0, 1.0, 1.0, 1.0, ...</td>\n",
       "    </tr>\n",
       "    <tr>\n",
       "      <th>3</th>\n",
       "      <td>d3f4mu</td>\n",
       "      <td>CMV: Closet racism is ok and natural for humans.</td>\n",
       "      <td>yung_thomas</td>\n",
       "      <td>1.568325e+09</td>\n",
       "      <td>0.41</td>\n",
       "      <td>None</td>\n",
       "      <td>[f029rf6, f028fj0, f02ae91, f02bfo3, f02cjbx, ...</td>\n",
       "      <td>[c4t4ly5t, Thintegrator, Abstracting_You, View...</td>\n",
       "      <td>[&gt;I am only saying that racists should be able...</td>\n",
       "      <td>[1.0, 1.0, 1.0, 1.0, 1.0, 1.0, 1.0, 1.0, 1.0, ...</td>\n",
       "    </tr>\n",
       "    <tr>\n",
       "      <th>4</th>\n",
       "      <td>d3f1dk</td>\n",
       "      <td>CMV: There should be an exam determining the v...</td>\n",
       "      <td>VR_AR</td>\n",
       "      <td>1.568325e+09</td>\n",
       "      <td>0.42</td>\n",
       "      <td>Delta(s) from OP</td>\n",
       "      <td>[f02bry9, f027uzy, f028cpy, f02a1d4, f02832y, ...</td>\n",
       "      <td>[DeltaBot, pluralofjackinthebox, Feathring, Mc...</td>\n",
       "      <td>[/u/VR_AR (OP) has awarded 2 delta(s) in this ...</td>\n",
       "      <td>[1.0, 1.0, 1.0, 1.0, 1.0, 1.0, 1.0, 1.0, 1.0, ...</td>\n",
       "    </tr>\n",
       "    <tr>\n",
       "      <th>5</th>\n",
       "      <td>d3e4qj</td>\n",
       "      <td>CMV: Amorality is necessary to lead a comforta...</td>\n",
       "      <td>CrashRiot</td>\n",
       "      <td>1.568321e+09</td>\n",
       "      <td>0.42</td>\n",
       "      <td>None</td>\n",
       "      <td>[f020hcq, f020qws, f029wjy, f020xhw, f022o48, ...</td>\n",
       "      <td>[NaturaSiveDeus, CorporalWotjek, CunningAllusi...</td>\n",
       "      <td>[It really depends on how one defines \"comfort...</td>\n",
       "      <td>[1.0, 1.0, 1.0, 1.0, 1.0, 1.0, 1.0, 1.0, 1.0, ...</td>\n",
       "    </tr>\n",
       "    <tr>\n",
       "      <th>6</th>\n",
       "      <td>d3dzrd</td>\n",
       "      <td>CMV: Gatekeeping as a principle is not inheren...</td>\n",
       "      <td>knowstuffsolveprobs</td>\n",
       "      <td>1.568321e+09</td>\n",
       "      <td>0.36</td>\n",
       "      <td>None</td>\n",
       "      <td>[f01zcmq, f02129r, f027qt8, f02dgfi, f02f451, ...</td>\n",
       "      <td>[UNRThrowAway, svenson_26, None, Quint-V, ReOs...</td>\n",
       "      <td>[The issue with gatekeeping is that the standa...</td>\n",
       "      <td>[1.0, 1.0, 1.0, 1.0, 1.0, 1.0]</td>\n",
       "    </tr>\n",
       "    <tr>\n",
       "      <th>7</th>\n",
       "      <td>d3db44</td>\n",
       "      <td>CMV: Apple with Tim Cook is a terribly run com...</td>\n",
       "      <td>KyleCAV</td>\n",
       "      <td>1.568318e+09</td>\n",
       "      <td>0.83</td>\n",
       "      <td>Deltas(s) from OP</td>\n",
       "      <td>[f02ri7s, f01wag6, f01rczk, f01ydhb, f023uon, ...</td>\n",
       "      <td>[DeltaBot, McKoijion, Ansuz07, PE_Norris, warl...</td>\n",
       "      <td>[/u/KyleCAV (OP) has awarded 1 delta(s) in thi...</td>\n",
       "      <td>[1.0, 1.0, 1.0, 1.0, 1.0, 1.0, 1.0, 1.0, 1.0, ...</td>\n",
       "    </tr>\n",
       "    <tr>\n",
       "      <th>8</th>\n",
       "      <td>d3caiu</td>\n",
       "      <td>CMV: The FAA should end the ban on hydrogen as...</td>\n",
       "      <td>SeekingToFindBalance</td>\n",
       "      <td>1.568314e+09</td>\n",
       "      <td>0.72</td>\n",
       "      <td>None</td>\n",
       "      <td>[f01hoxx, f01gwmh, f01idfs, f023yqt, f01furm, ...</td>\n",
       "      <td>[shortadamlewis, abunchofsoandso, iamasecretth...</td>\n",
       "      <td>[Nope... the destruction of hydrogen blimps wa...</td>\n",
       "      <td>[1.0, 1.0, 1.0, 1.0, 1.0, 1.0, 1.0, 1.0, 1.0, ...</td>\n",
       "    </tr>\n",
       "    <tr>\n",
       "      <th>9</th>\n",
       "      <td>d3bu0i</td>\n",
       "      <td>CMV: I feel that Warren supporters are people ...</td>\n",
       "      <td>Lord_Blathoxi</td>\n",
       "      <td>1.568312e+09</td>\n",
       "      <td>0.55</td>\n",
       "      <td>None</td>\n",
       "      <td>[f01t17p, f019q0w, f019m64, f01bkqp, f01gbjn, ...</td>\n",
       "      <td>[DeltaBot, onetwo3four5, Resident_Egg, miguelg...</td>\n",
       "      <td>[/u/Lord_Blathoxi (OP) has awarded 2 delta(s) ...</td>\n",
       "      <td>[1.0, 1.0, 1.0, 1.0, 1.0, 1.0, 1.0, 1.0, 1.0, ...</td>\n",
       "    </tr>\n",
       "  </tbody>\n",
       "</table>\n",
       "</div>"
      ],
      "text/plain": [
       "  subm_ID                                         subm_title  \\\n",
       "0  d3hhtn  CMV: You shouldn't be able to hate on what you...   \n",
       "1  d3h2aj  CMV: Ty Oliver McDowell should not have been s...   \n",
       "2  d3fh56  CMV: Black people should not refer to themselv...   \n",
       "3  d3f4mu   CMV: Closet racism is ok and natural for humans.   \n",
       "4  d3f1dk  CMV: There should be an exam determining the v...   \n",
       "5  d3e4qj  CMV: Amorality is necessary to lead a comforta...   \n",
       "6  d3dzrd  CMV: Gatekeeping as a principle is not inheren...   \n",
       "7  d3db44  CMV: Apple with Tim Cook is a terribly run com...   \n",
       "8  d3caiu  CMV: The FAA should end the ban on hydrogen as...   \n",
       "9  d3bu0i  CMV: I feel that Warren supporters are people ...   \n",
       "\n",
       "            subm_author  subm_created_utc  subm_upvote_ratio  \\\n",
       "0             DeadByLag      1.568336e+09               0.40   \n",
       "1     IsRapeAlwaysWrong      1.568334e+09               1.00   \n",
       "2              naganarb      1.568327e+09               0.50   \n",
       "3           yung_thomas      1.568325e+09               0.41   \n",
       "4                 VR_AR      1.568325e+09               0.42   \n",
       "5             CrashRiot      1.568321e+09               0.42   \n",
       "6   knowstuffsolveprobs      1.568321e+09               0.36   \n",
       "7               KyleCAV      1.568318e+09               0.83   \n",
       "8  SeekingToFindBalance      1.568314e+09               0.72   \n",
       "9         Lord_Blathoxi      1.568312e+09               0.55   \n",
       "\n",
       "  subm_link_flair_text                                   subm_comment_ids  \\\n",
       "0                  NaN  [f02rkl4, f02sb7r, f02s1h7, f02ulhb, f02uwum, ...   \n",
       "1                  NaN                                 [f02pgza, f02pkc2]   \n",
       "2    Deltas(s) from OP  [f02isst, f02emnq, f02f2jn, f02eoc0, f02ehxv, ...   \n",
       "3                 None  [f029rf6, f028fj0, f02ae91, f02bfo3, f02cjbx, ...   \n",
       "4     Delta(s) from OP  [f02bry9, f027uzy, f028cpy, f02a1d4, f02832y, ...   \n",
       "5                 None  [f020hcq, f020qws, f029wjy, f020xhw, f022o48, ...   \n",
       "6                 None  [f01zcmq, f02129r, f027qt8, f02dgfi, f02f451, ...   \n",
       "7    Deltas(s) from OP  [f02ri7s, f01wag6, f01rczk, f01ydhb, f023uon, ...   \n",
       "8                 None  [f01hoxx, f01gwmh, f01idfs, f023yqt, f01furm, ...   \n",
       "9                 None  [f01t17p, f019q0w, f019m64, f01bkqp, f01gbjn, ...   \n",
       "\n",
       "                                subm_comment_authors  \\\n",
       "0  [miguelguajiro, Mnlybdg, TheVioletBarry, absol...   \n",
       "1                               [GetToMars, Armadeo]   \n",
       "2  [DeltaBot, amishlatinjew, planthoney, Skull025...   \n",
       "3  [c4t4ly5t, Thintegrator, Abstracting_You, View...   \n",
       "4  [DeltaBot, pluralofjackinthebox, Feathring, Mc...   \n",
       "5  [NaturaSiveDeus, CorporalWotjek, CunningAllusi...   \n",
       "6  [UNRThrowAway, svenson_26, None, Quint-V, ReOs...   \n",
       "7  [DeltaBot, McKoijion, Ansuz07, PE_Norris, warl...   \n",
       "8  [shortadamlewis, abunchofsoandso, iamasecretth...   \n",
       "9  [DeltaBot, onetwo3four5, Resident_Egg, miguelg...   \n",
       "\n",
       "                                 subm_comment_bodies  \\\n",
       "0  [I agree about Lil’ Peep and such, but with IC...   \n",
       "1  [What he did sounds strongly like negligence, ...   \n",
       "2  [/u/naganarb (OP) has awarded 1 delta(s) in th...   \n",
       "3  [>I am only saying that racists should be able...   \n",
       "4  [/u/VR_AR (OP) has awarded 2 delta(s) in this ...   \n",
       "5  [It really depends on how one defines \"comfort...   \n",
       "6  [The issue with gatekeeping is that the standa...   \n",
       "7  [/u/KyleCAV (OP) has awarded 1 delta(s) in thi...   \n",
       "8  [Nope... the destruction of hydrogen blimps wa...   \n",
       "9  [/u/Lord_Blathoxi (OP) has awarded 2 delta(s) ...   \n",
       "\n",
       "                                 subm_comment_scores  \n",
       "0                [1.0, 1.0, 1.0, 1.0, 1.0, 1.0, 1.0]  \n",
       "1                                         [1.0, 1.0]  \n",
       "2  [1.0, 1.0, 1.0, 1.0, 1.0, 1.0, 1.0, 1.0, 1.0, ...  \n",
       "3  [1.0, 1.0, 1.0, 1.0, 1.0, 1.0, 1.0, 1.0, 1.0, ...  \n",
       "4  [1.0, 1.0, 1.0, 1.0, 1.0, 1.0, 1.0, 1.0, 1.0, ...  \n",
       "5  [1.0, 1.0, 1.0, 1.0, 1.0, 1.0, 1.0, 1.0, 1.0, ...  \n",
       "6                     [1.0, 1.0, 1.0, 1.0, 1.0, 1.0]  \n",
       "7  [1.0, 1.0, 1.0, 1.0, 1.0, 1.0, 1.0, 1.0, 1.0, ...  \n",
       "8  [1.0, 1.0, 1.0, 1.0, 1.0, 1.0, 1.0, 1.0, 1.0, ...  \n",
       "9  [1.0, 1.0, 1.0, 1.0, 1.0, 1.0, 1.0, 1.0, 1.0, ...  "
      ]
     },
     "execution_count": 157,
     "metadata": {},
     "output_type": "execute_result"
    }
   ],
   "source": [
    "# Display dataframe\n",
    "subm_data.head(10)"
   ]
  },
  {
   "cell_type": "code",
   "execution_count": 158,
   "metadata": {
    "ExecuteTime": {
     "end_time": "2019-09-13T01:47:10.204254Z",
     "start_time": "2019-09-13T01:47:10.189359Z"
    }
   },
   "outputs": [
    {
     "name": "stdout",
     "output_type": "stream",
     "text": [
      "dump_r-changemyview_2019-09-12.pkl\n"
     ]
    }
   ],
   "source": [
    "# Save the data\n",
    "timestamp = time.time()\n",
    "dati = datetime.datetime.fromtimestamp(timestamp)\n",
    "da = str(dati)[0:10]\n",
    "ti = str(dati)[11:19]\n",
    "\n",
    "fname = \"dump_r-\"+subreddit_name+\"_\"+da+\".pkl\"\n",
    "print(fname)\n",
    "subm_data.to_pickle(fname)"
   ]
  },
  {
   "cell_type": "code",
   "execution_count": 227,
   "metadata": {
    "ExecuteTime": {
     "end_time": "2019-09-13T06:39:53.102630Z",
     "start_time": "2019-09-13T06:39:52.582606Z"
    },
    "scrolled": false
   },
   "outputs": [
    {
     "data": {
      "text/plain": [
       "<matplotlib.legend.Legend at 0x1a35470b70>"
      ]
     },
     "execution_count": 227,
     "metadata": {},
     "output_type": "execute_result"
    },
    {
     "data": {
      "image/png": "[encoded data removed]",
      "text/plain": [
       "<Figure size 1152x576 with 1 Axes>"
      ]
     },
     "metadata": {
      "needs_background": "light"
     },
     "output_type": "display_data"
    }
   ],
   "source": [
    "# Make an histogram of the controversial indicator \n",
    "# i.e. subm_upvote_ratio\n",
    "\n",
    "# Load a couple of \n",
    "df0 = pd.read_pickle(\"dump_r-politicaldiscussion_2019-09-12.pkl\")\n",
    "name0 = \"politicaldiscussion\"\n",
    "df1 = pd.read_pickle(\"dump_r-amitheasshole_2019-09-12.pkl\")\n",
    "name1 = \"amitheasshole\"\n",
    "df2 = pd.read_pickle(\"dump_r-changemyview_2019-09-12.pkl\")\n",
    "name2 = \"changemyview\"\n",
    "\n",
    "params={'font.size': 20,'axes.labelsize': 20,'legend.fontsize': 18,\n",
    "        'xtick.labelsize': 20,'ytick.labelsize': 20,'lines.linewidth': 4,'axes.linewidth': 3,\n",
    "        'xtick.major.width': 3,'ytick.major.width': 3,'xtick.minor.width': 3,'ytick.minor.width': 3,\n",
    "        'xtick.major.size': 7,'ytick.major.size': 7,'xtick.minor.size': 5,'ytick.minor.size': 5,\n",
    "        'lines.markeredgewidth' : 3, 'lines.markersize': 6}\n",
    "mpl.rcParams.update(params)\n",
    "\n",
    "fig = plt.figure(figsize=(16,8))\n",
    "plt.xscale(\"linear\")\n",
    "plt.yscale(\"log\")\n",
    "plt.axis([-0.05,1.05,0.1,200])\n",
    "plt.xlabel(\"Upvotes/(Upvotes+Downvotes)\")\n",
    "plt.xticks(np.arange(0,1.2,0.2),labels=[\"0.0\",\"0.2\",\"0.4\",\"0.6\",\"0.8\",\"1.0\"])\n",
    "plt.ylabel(\"Number of Submissions\")\n",
    "plt.yticks([0.1,1,10,100],labels=[\"0.1\",\"1.0\",\"10\",\"100\"])\n",
    "plt.axvspan(0.25, 0.75, facecolor='gray',alpha=0.3,label=\"Controversial Range\")\n",
    "plt.plot([0.5,0.5],[0,1e8],\"k:\",linewidth=5,label=\"Most Controversial\")\n",
    "histdata = [df0[\"subm_upvote_ratio\"].values,df1[\"subm_upvote_ratio\"].values,df2[\"subm_upvote_ratio\"].values]\n",
    "\n",
    "colors = [\"red\",\"lightgreen\",\"lightblue\"]\n",
    "labels = [\"r/\"+name0,\"r/\"+name1,\"r/\"+name2]\n",
    "plt.hist(histdata,bins=10,range=[0,1],rwidth=0.8,label=labels,color=colors,edgecolor='black',alpha=1)\n",
    "plt.legend(loc='top left', bbox_to_anchor=(1.05, 1.0))\n"
   ]
  },
  {
   "cell_type": "code",
   "execution_count": 228,
   "metadata": {
    "ExecuteTime": {
     "end_time": "2019-09-13T06:39:54.985069Z",
     "start_time": "2019-09-13T06:39:54.717219Z"
    }
   },
   "outputs": [
    {
     "data": {
      "text/plain": [
       "<matplotlib.legend.Legend at 0x1a37ca05c0>"
      ]
     },
     "execution_count": 228,
     "metadata": {},
     "output_type": "execute_result"
    },
    {
     "data": {
      "image/png": "[encoded data removed]",
      "text/plain": [
       "<Figure size 1152x576 with 1 Axes>"
      ]
     },
     "metadata": {
      "needs_background": "light"
     },
     "output_type": "display_data"
    }
   ],
   "source": [
    "# Another interesting plot\n",
    "\n",
    "# Load a couple of \n",
    "df0 = pd.read_pickle(\"dump_r-politicaldiscussion_2019-09-12.pkl\")\n",
    "name0 = \"politicaldiscussion\"\n",
    "df1 = pd.read_pickle(\"dump_r-amitheasshole_2019-09-12.pkl\")\n",
    "name1 = \"amitheasshole\"\n",
    "df2 = pd.read_pickle(\"dump_r-changemyview_2019-09-12.pkl\")\n",
    "name2 = \"changemyview\"\n",
    "\n",
    "params={'font.size': 20,'axes.labelsize': 20,'legend.fontsize': 18,\n",
    "        'xtick.labelsize': 20,'ytick.labelsize': 20,'lines.linewidth': 4,'axes.linewidth': 3,\n",
    "        'xtick.major.width': 3,'ytick.major.width': 3,'xtick.minor.width': 3,'ytick.minor.width': 3,\n",
    "        'xtick.major.size': 7,'ytick.major.size': 7,'xtick.minor.size': 5,'ytick.minor.size': 5,\n",
    "        'lines.markeredgewidth' : 3, 'lines.markersize': 6}\n",
    "mpl.rcParams.update(params)\n",
    "\n",
    "sel0 = df0[\"subm_upvote_ratio\"] <= 0.25\n",
    "sel1 = df1[\"subm_upvote_ratio\"] <= 0.25\n",
    "sel2 = df2[\"subm_upvote_ratio\"] <= 0.25\n",
    "negative_opinion = np.array([ \\\n",
    "                    float(len(df0[\"subm_upvote_ratio\"][sel0]))/float(len(df0[\"subm_upvote_ratio\"])), \\\n",
    "                    float(len(df1[\"subm_upvote_ratio\"][sel1]))/float(len(df1[\"subm_upvote_ratio\"])), \\\n",
    "                    float(len(df2[\"subm_upvote_ratio\"][sel0]))/float(len(df2[\"subm_upvote_ratio\"])) \\\n",
    "                   ])\n",
    "\n",
    "sel0 = df0[\"subm_upvote_ratio\"] >= 0.75\n",
    "sel1 = df1[\"subm_upvote_ratio\"] >= 0.75\n",
    "sel2 = df2[\"subm_upvote_ratio\"] >= 0.75\n",
    "positive_opinion = np.array([ \\\n",
    "                    float(len(df0[\"subm_upvote_ratio\"][sel0]))/float(len(df0[\"subm_upvote_ratio\"])), \\\n",
    "                    float(len(df1[\"subm_upvote_ratio\"][sel1]))/float(len(df1[\"subm_upvote_ratio\"])), \\\n",
    "                    float(len(df2[\"subm_upvote_ratio\"][sel0]))/float(len(df2[\"subm_upvote_ratio\"])) \\\n",
    "                   ])\n",
    "\n",
    "controversial_opinion = np.array([1.0,1.0,1.0])\n",
    "controversial_opinion = controversial_opinion-positive_opinion-negative_opinion\n",
    "\n",
    "plt.figure(figsize=(16,8))\n",
    "ind = [0,1,2]\n",
    "p1 = plt.barh(ind,negative_opinion,height=0.5,color=\"red\",label=\"Negative\")\n",
    "p2 = plt.barh(ind,controversial_opinion,height=0.5,color=\"orange\",left=negative_opinion,label=\"Controversial\")\n",
    "p3 = plt.barh(ind,positive_opinion,color=\"green\",height=0.5,\\\n",
    "     left=negative_opinion+controversial_opinion, label=\"Positive\")\n",
    "plt.xlabel(\"Fraction of Submissions\")\n",
    "plt.yticks(ind,[\"r/\"+name0,\"r/\"+name1,\"r/\"+name2])\n",
    "plt.legend(bbox_to_anchor=(1.05, 1.0), loc=2, borderaxespad=0.)"
   ]
  },
  {
   "cell_type": "code",
   "execution_count": null,
   "metadata": {},
   "outputs": [],
   "source": []
  }
 ],
 "metadata": {
  "kernelspec": {
   "display_name": "Python 3",
   "language": "python",
   "name": "python3"
  },
  "language_info": {
   "codemirror_mode": {
    "name": "ipython",
    "version": 3
   },
   "file_extension": ".py",
   "mimetype": "text/x-python",
   "name": "python",
   "nbconvert_exporter": "python",
   "pygments_lexer": "ipython3",
   "version": "3.7.3"
  },
  "toc": {
   "base_numbering": 1,
   "nav_menu": {},
   "number_sections": true,
   "sideBar": true,
   "skip_h1_title": false,
   "title_cell": "Table of Contents",
   "title_sidebar": "Contents",
   "toc_cell": false,
   "toc_position": {},
   "toc_section_display": true,
   "toc_window_display": false
  }
 },
 "nbformat": 4,
 "nbformat_minor": 2
}
